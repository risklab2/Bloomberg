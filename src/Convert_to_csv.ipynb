{
 "cells": [
  {
   "cell_type": "code",
   "execution_count": 23,
   "id": "3ade85ed",
   "metadata": {},
   "outputs": [],
   "source": [
    "import os\n",
    "import pandas as pd"
   ]
  },
  {
   "cell_type": "code",
   "execution_count": 24,
   "id": "267f1817",
   "metadata": {},
   "outputs": [],
   "source": [
    "csv_folder = r'C:\\Users\\matth\\OneDrive\\Attachments\\Desktop\\CSV Copies'"
   ]
  },
  {
   "cell_type": "code",
   "execution_count": 31,
   "id": "e0e14a66",
   "metadata": {},
   "outputs": [
    {
     "name": "stdout",
     "output_type": "stream",
     "text": [
      "Communications folder found: C:\\Users\\matth\\OneDrive\\Attachments\\Desktop\\CSV Copies\\communications\n",
      "Checking folder: C:\\Users\\matth\\OneDrive\\Attachments\\Desktop\\CSV Copies\\communications\n",
      "Checking folder: C:\\Users\\matth\\OneDrive\\Attachments\\Desktop\\CSV Copies\\communications\\GOOG\n",
      "DataFrame 'GOOGL_Segments_Quarter_2014' created with shape (92, 80)\n",
      "DataFrame 'GOOGL_Segments_Quarter_2024' created with shape (116, 82)\n",
      "DataFrame 'GOOGL_Segments_Yearly_2023' created with shape (122, 44)\n",
      "DataFrame 'GOOG_Annual' created with shape (309, 36)\n",
      "DataFrame 'GOOG_Quarter' created with shape (169, 141)\n",
      "Checking folder: C:\\Users\\matth\\OneDrive\\Attachments\\Desktop\\CSV Copies\\communications\\META\n",
      "DataFrame 'META_Annual' created with shape (309, 36)\n",
      "DataFrame 'META_Quarter' created with shape (169, 141)\n",
      "DataFrame 'META_Segments_Quarter_2014' created with shape (17, 38)\n",
      "DataFrame 'META_Segments_Quarter_2024' created with shape (46, 82)\n",
      "DataFrame 'META_Segments_Yearly_2023' created with shape (41, 32)\n",
      "Checking folder: C:\\Users\\matth\\OneDrive\\Attachments\\Desktop\\CSV Copies\\communications\\NFLX\n",
      "DataFrame 'NFLX_Annual' created with shape (309, 36)\n",
      "DataFrame 'NFLX_Quarter' created with shape (169, 141)\n",
      "DataFrame 'NFLX_Segments_Quarter_2014' created with shape (112, 82)\n",
      "DataFrame 'NFLX_Segments_Quarter_2024' created with shape (84, 82)\n",
      "DataFrame 'NFLX_Segments_Yearly_2023' created with shape (116, 42)\n",
      "DataFrames created:\n",
      "GOOGL_Segments_Quarter_2014\n",
      "GOOGL_Segments_Quarter_2024\n",
      "GOOGL_Segments_Yearly_2023\n",
      "GOOG_Annual\n",
      "GOOG_Quarter\n",
      "META_Annual\n",
      "META_Quarter\n",
      "META_Segments_Quarter_2014\n",
      "META_Segments_Quarter_2024\n",
      "META_Segments_Yearly_2023\n",
      "NFLX_Annual\n",
      "NFLX_Quarter\n",
      "NFLX_Segments_Quarter_2014\n",
      "NFLX_Segments_Quarter_2024\n",
      "NFLX_Segments_Yearly_2023\n"
     ]
    }
   ],
   "source": [
    "import os\n",
    "import pandas as pd\n",
    "\n",
    "# Define the path to the CSV Copies folder\n",
    "csv_folder = r'C:\\Users\\matth\\OneDrive\\Attachments\\Desktop\\CSV Copies'  # Updated path\n",
    "\n",
    "# Path to the communications folder\n",
    "communications_folder = os.path.join(csv_folder, 'communications')\n",
    "\n",
    "# Check if the communications folder exists\n",
    "if not os.path.exists(communications_folder):\n",
    "    print(f\"The communications folder does not exist: {communications_folder}\")\n",
    "else:\n",
    "    print(f\"Communications folder found: {communications_folder}\")\n",
    "\n",
    "    # Initialize a dictionary to hold DataFrames for each CSV file\n",
    "    communications_dataframes = {}\n",
    "\n",
    "    # Use os.walk to traverse the communications folder and its subfolders\n",
    "    for root, dirs, files in os.walk(communications_folder):\n",
    "        print(f\"Checking folder: {root}\")  # Print the current folder being checked\n",
    "        for file in files:\n",
    "            if file.endswith('.csv'):\n",
    "                # Construct the full file path\n",
    "                csv_file_path = os.path.join(root, file)\n",
    "\n",
    "                # Read the CSV file into a DataFrame\n",
    "                df = pd.read_csv(csv_file_path)\n",
    "\n",
    "                # Assign the DataFrame to a variable named after the file (without .csv extension)\n",
    "                variable_name = file[:-4]  # Remove the '.csv' extension for the variable name\n",
    "                communications_dataframes[variable_name] = df\n",
    "                print(f\"DataFrame '{variable_name}' created with shape {df.shape}\")\n",
    "\n",
    "    # Print out the names of DataFrames created\n",
    "    if communications_dataframes:\n",
    "        print(\"DataFrames created:\")\n",
    "        for name in communications_dataframes:\n",
    "            print(name)\n",
    "    else:\n",
    "        print(\"No CSV files found in the communications folder and its subfolders.\")\n"
   ]
  },
  {
   "cell_type": "code",
   "execution_count": 30,
   "id": "3aa50579",
   "metadata": {},
   "outputs": [
    {
     "name": "stdout",
     "output_type": "stream",
     "text": [
      "Communications folder found: C:\\Users\\matth\\OneDrive\\Attachments\\Desktop\\CSV Copies\\communications\n",
      "Files in the communications folder:\n",
      "  GOOG\n",
      "  META\n",
      "  NFLX\n",
      "No CSV files found in the communications folder.\n"
     ]
    }
   ],
   "source": []
  },
  {
   "cell_type": "code",
   "execution_count": null,
   "id": "60f99c0f",
   "metadata": {},
   "outputs": [],
   "source": []
  }
 ],
 "metadata": {
  "kernelspec": {
   "display_name": "Python 3 (ipykernel)",
   "language": "python",
   "name": "python3"
  },
  "language_info": {
   "codemirror_mode": {
    "name": "ipython",
    "version": 3
   },
   "file_extension": ".py",
   "mimetype": "text/x-python",
   "name": "python",
   "nbconvert_exporter": "python",
   "pygments_lexer": "ipython3",
   "version": "3.10.9"
  }
 },
 "nbformat": 4,
 "nbformat_minor": 5
}
